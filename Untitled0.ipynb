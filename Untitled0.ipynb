{
  "nbformat": 4,
  "nbformat_minor": 0,
  "metadata": {
    "colab": {
      "name": "Untitled0.ipynb",
      "provenance": [],
      "authorship_tag": "ABX9TyPb/PlamMthRU/HneWbEMDi",
      "include_colab_link": true
    },
    "kernelspec": {
      "name": "python3",
      "display_name": "Python 3"
    },
    "language_info": {
      "name": "python"
    }
  },
  "cells": [
    {
      "cell_type": "markdown",
      "metadata": {
        "id": "view-in-github",
        "colab_type": "text"
      },
      "source": [
        "<a href=\"https://colab.research.google.com/github/Neelima-maker/11/blob/master/Untitled0.ipynb\" target=\"_parent\"><img src=\"https://colab.research.google.com/assets/colab-badge.svg\" alt=\"Open In Colab\"/></a>"
      ]
    },
    {
      "cell_type": "code",
      "execution_count": null,
      "metadata": {
        "id": "o4zngKO9MP8o"
      },
      "outputs": [],
      "source": [
        ""
      ]
    },
    {
      "cell_type": "code",
      "source": [
        "print(\"Hello Class\")"
      ],
      "metadata": {
        "colab": {
          "base_uri": "https://localhost:8080/"
        },
        "id": "HFZWcYgFM0r3",
        "outputId": "12bb6fdb-f516-4c20-9bca-3a31b8e47547"
      },
      "execution_count": 1,
      "outputs": [
        {
          "output_type": "stream",
          "name": "stdout",
          "text": [
            "Hello Class\n"
          ]
        }
      ]
    },
    {
      "cell_type": "markdown",
      "source": [
        "#How to print numbers and strings together"
      ],
      "metadata": {
        "id": "kKtxenckNDl0"
      }
    },
    {
      "cell_type": "code",
      "source": [
        "print(\"printing something...\",2,\"yes??\",45,\"No!!\")"
      ],
      "metadata": {
        "colab": {
          "base_uri": "https://localhost:8080/"
        },
        "id": "f_E8EklPNJzm",
        "outputId": "6da23572-bca8-4dfc-aa80-523b194da640"
      },
      "execution_count": 2,
      "outputs": [
        {
          "output_type": "stream",
          "name": "stdout",
          "text": [
            "printing something... 2 yes?? 45 No!!\n"
          ]
        }
      ]
    },
    {
      "cell_type": "code",
      "source": [
        "num=2.44\n",
        "name=\"Neelima\"\n",
        "type(num)\n",
        "#type(name)"
      ],
      "metadata": {
        "colab": {
          "base_uri": "https://localhost:8080/"
        },
        "id": "RhjxkHDcNhNH",
        "outputId": "b1af4ec1-0cb7-4908-e906-dfb857bab2f8"
      },
      "execution_count": 9,
      "outputs": [
        {
          "output_type": "execute_result",
          "data": {
            "text/plain": [
              "float"
            ]
          },
          "metadata": {},
          "execution_count": 9
        }
      ]
    },
    {
      "cell_type": "code",
      "source": [
        "num1=5; num2=2.05\n",
        "print(num1)\n",
        "type(num1)\n"
      ],
      "metadata": {
        "colab": {
          "base_uri": "https://localhost:8080/"
        },
        "id": "LP9bfb7POJuT",
        "outputId": "ae8c6301-2b74-42a3-e2f9-15b889448835"
      },
      "execution_count": 10,
      "outputs": [
        {
          "output_type": "stream",
          "name": "stdout",
          "text": [
            "5\n"
          ]
        },
        {
          "output_type": "execute_result",
          "data": {
            "text/plain": [
              "int"
            ]
          },
          "metadata": {},
          "execution_count": 10
        }
      ]
    },
    {
      "cell_type": "code",
      "source": [
        "celcius=20\n",
        "#formula for conversion\n",
        "farenheit = (celcius*(9/5))+32\n",
        "print(farenheit)"
      ],
      "metadata": {
        "colab": {
          "base_uri": "https://localhost:8080/"
        },
        "id": "Jan9n4yaOrpL",
        "outputId": "fdc9abfc-d240-48ad-b2c1-ac70023fef78"
      },
      "execution_count": 12,
      "outputs": [
        {
          "output_type": "stream",
          "name": "stdout",
          "text": [
            "68.0\n"
          ]
        }
      ]
    },
    {
      "cell_type": "code",
      "source": [
        "\n",
        "def convert_to_faren(celcius):\n",
        "  farenheit = (celcius * (9/5)) + 32\n",
        "  return farenheit\n",
        "convert_to_faren(40)\n",
        "cells=input(\"Enter the temperature in celcius:\" )\n",
        "print(cells)\n",
        "type(cells)\n",
        "convert_to_faren(float(cells))"
      ],
      "metadata": {
        "colab": {
          "base_uri": "https://localhost:8080/"
        },
        "id": "tav25tgXPgJs",
        "outputId": "4e60afc6-5fbe-40c9-f8e2-4ec20c0809c8"
      },
      "execution_count": 35,
      "outputs": [
        {
          "output_type": "stream",
          "name": "stdout",
          "text": [
            "Enter the temperature in celcius:45\n",
            "45\n"
          ]
        },
        {
          "output_type": "execute_result",
          "data": {
            "text/plain": [
              "113.0"
            ]
          },
          "metadata": {},
          "execution_count": 35
        }
      ]
    }
  ]
}